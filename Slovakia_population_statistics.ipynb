{
 "cells": [
  {
   "cell_type": "markdown",
   "id": "6d00b01b-cb9b-4873-a029-59746e2ac756",
   "metadata": {},
   "source": [
    "## Analyzing Slovakia's population count changes between 2006 and 2021 👪"
   ]
  },
  {
   "cell_type": "markdown",
   "id": "5be1da25-b4c1-443b-9cea-ba2bc5c7a776",
   "metadata": {},
   "source": [
    "#### Goal: \n",
    "to describe Slovakia's current (2021) population count and its changes between 2006 and 2021\n",
    "\n",
    "#### Data:\n",
    "- GEOSTAT (2006) and Eurostat Census Grid (2021) population data (1x1 km grid) available at: https://ec.europa.eu/eurostat/web/gisco/geodata/reference-data/population-distribution-demography/geostat\n",
    "\n",
    "#### Research area: \n",
    "Slovakia, EU\n",
    "\n",
    "#### Processing steps:\n",
    "0. Importing packages\n",
    "1. Scraping, downloading and unzipping data\n",
    "2. Creating standardized population data for a single year\n",
    "3. Filtering Slovakia's grids from all-EU data (only for 2006)\n",
    "4. Performing a spatial join between all-EU data for 2021 and Slovakia's data for 2006 => merged dataset limited to Slovakia's grids\n",
    "5. Finding 5 grids characterized by the highest population increase\n",
    "6. Reprojecting population data to WGS84 (geographic coordinate system)\n",
    "7. Calculating Slovakia's 2021 population count statistics"
   ]
  },
  {
   "cell_type": "markdown",
   "id": "8d68eac0-7a56-4936-abae-aba48c244673",
   "metadata": {},
   "source": [
    "Prepared by: Aleksandra Radecka <br>\n",
    "e-mail: aleksandraradecka@protonmail.com <br>\n",
    "LinkedIn: https://www.linkedin.com/in/aleksandraradecka/"
   ]
  },
  {
   "cell_type": "code",
   "execution_count": null,
   "id": "463ea7c0-1d2e-4237-9f21-d05945a5b95d",
   "metadata": {},
   "outputs": [],
   "source": []
  },
  {
   "cell_type": "markdown",
   "id": "214da227-6e6b-4759-99c2-0e78fd74dd38",
   "metadata": {},
   "source": [
    "## Step 0: importing packages"
   ]
  },
  {
   "cell_type": "code",
   "execution_count": 3,
   "id": "203d882f-9bbe-4e33-a942-8024da2ea6d4",
   "metadata": {},
   "outputs": [],
   "source": [
    "import glob\n",
    "import io\n",
    "\n",
    "from bs4 import BeautifulSoup\n",
    "import geopandas as gpd\n",
    "import pandas as pd\n",
    "import requests\n",
    "import zipfile  "
   ]
  },
  {
   "cell_type": "code",
   "execution_count": null,
   "id": "55e29b3f-e749-4cf0-952c-fac8cb0e1bac",
   "metadata": {},
   "outputs": [],
   "source": []
  },
  {
   "cell_type": "markdown",
   "id": "f4da3810-8f33-42dc-9a0e-067f857d2660",
   "metadata": {},
   "source": [
    "## Step 1: scraping, downloading and unzipping data"
   ]
  },
  {
   "cell_type": "code",
   "execution_count": 1,
   "id": "31a4561c-6b7e-492c-b20c-a7217765cd70",
   "metadata": {},
   "outputs": [],
   "source": [
    "def download_geostat_zip(input_url, year):\n",
    "    \"\"\"\n",
    "    Scrapes the website to find and download and unzip a zip file containg statistics for a given year\n",
    "    :param input_url: str\n",
    "        url to website to scrape\n",
    "    :param year: str\n",
    "        year of measurement \n",
    "    :return: tuple of str\n",
    "        measurement year and name of the folder containg unzipped data\n",
    "    \"\"\"    \n",
    "    # sending request and parsing obtained content\n",
    "    response = requests.get(input_url)\n",
    "    soup = BeautifulSoup(response.content, 'html.parser')\n",
    "    # finding links and filtering them out by format and measurement year\n",
    "    links = soup.find_all('a')\n",
    "    zip_year_link = [link.get('href') for link in links if link.get('href') and link.get('href').endswith('.zip') and year in link.get('href')]\n",
    "    # establishing the zip's url and downloading it\n",
    "    zip_url = zip_year_link[0] if zip_year_link[0].startswith('http') else f\"https://ec.europa.eu{zip_year_link[0]}\"\n",
    "    zip_response = requests.get(zip_url)\n",
    "    filename = zip_url.split('/')[-1]\n",
    "    with open(filename, 'wb') as f:\n",
    "        f.write(zip_response.content)\n",
    "        print(f\"{filename} downloaded successfully\")\n",
    "    # unzipping the file \n",
    "    with zipfile.ZipFile(filename, 'r') as zip_ref:\n",
    "        zip_ref.extractall(filename[:-4])\n",
    "        print(f\"{filename} unzipped successfully\")\n",
    "    return(year, filename[:-4])"
   ]
  },
  {
   "cell_type": "code",
   "execution_count": 2,
   "id": "bec1cbdc-008d-4f9b-84e6-bc21cf651c6c",
   "metadata": {},
   "outputs": [
    {
     "name": "stdout",
     "output_type": "stream",
     "text": [
      "GEOSTAT_Grid_POP_2006_1K.zip downloaded successfully\n",
      "GEOSTAT_Grid_POP_2006_1K.zip unzipped successfully\n"
     ]
    }
   ],
   "source": [
    "y1, folder1 = download_geostat_zip(input_url = 'https://ec.europa.eu/eurostat/web/gisco/geodata/reference-data/population-distribution-demography/geostat', year = '2006')"
   ]
  },
  {
   "cell_type": "code",
   "execution_count": 3,
   "id": "bb06e37b-8ab8-4e39-bc31-9a57789e6ca2",
   "metadata": {},
   "outputs": [
    {
     "name": "stdout",
     "output_type": "stream",
     "text": [
      "Eurostat_Census-GRID_2021_V1-0.zip downloaded successfully\n",
      "Eurostat_Census-GRID_2021_V1-0.zip unzipped successfully\n"
     ]
    }
   ],
   "source": [
    "y2, folder2 = download_geostat_zip(input_url = 'https://ec.europa.eu/eurostat/web/gisco/geodata/reference-data/population-distribution-demography/geostat', year = '2021')"
   ]
  },
  {
   "cell_type": "code",
   "execution_count": null,
   "id": "8a2599a1-9285-4f06-b8cf-dae4df565d4c",
   "metadata": {},
   "outputs": [],
   "source": []
  },
  {
   "cell_type": "markdown",
   "id": "31ca1e17-80f6-475b-b3ab-8b84a5170ed1",
   "metadata": {},
   "source": [
    "## Step 2: creating standardized population data for a single year "
   ]
  },
  {
   "cell_type": "code",
   "execution_count": 4,
   "id": "6cf8c602-4d84-4b7f-8d67-eca2cf124527",
   "metadata": {},
   "outputs": [],
   "source": [
    "def prepare_geostat(input_folder, year):\n",
    "    \"\"\"\n",
    "    Prepares standardized population data for a given year \n",
    "    :param input_folder: str\n",
    "        name of the folder containg unzipped geostat data\n",
    "    :param year: str\n",
    "        year of measurement \n",
    "    :return: gdf \n",
    "        prepared (standardized) geostat GeoPandas dataframe for a given year \n",
    "    \"\"\"\n",
    "    # finding a vector file\n",
    "    vector_files = []\n",
    "    for ext in ['.geojson', '.shp', 'gpkg']:\n",
    "        vector_files.extend(glob.glob(input_folder + '/**/*' + ext, recursive=True)) \n",
    "    gdf = gpd.read_file(vector_files[0])\n",
    "   \n",
    "    # possible finding of a csv file\n",
    "    csv_files = glob.glob(input_folder + '/**/*.csv', recursive=True)\n",
    "    if len(csv_files) == 1:\n",
    "        df = pd.read_csv(csv_files[0], sep = ';')\n",
    "        # standardizing grid ID column name\n",
    "        for data in [gdf, df]:\n",
    "            columns_with_grd = [col for col in data.columns if 'GRD' in col]\n",
    "            data.rename(columns={columns_with_grd[0]: 'GRD_ID'}, inplace=True)\n",
    "        # joining tabular data to vector data\n",
    "        pop = gdf.merge(df, on = 'GRD_ID')\n",
    "    else:\n",
    "        pop = gdf\n",
    "    # standardizing population column name\n",
    "    columns_with_value = [col for col in pop.columns if 'POP' in col or 'OBS' in col]\n",
    "    pop.rename(columns={columns_with_value[0]: 'pop_' + year}, inplace=True)\n",
    "    # changing geometry to centroids\n",
    "    pop['geometry'] = pop['geometry'].centroid\n",
    "    return(pop)"
   ]
  },
  {
   "cell_type": "code",
   "execution_count": 6,
   "id": "42690488-3c50-43b6-925d-9924ab8da229",
   "metadata": {},
   "outputs": [],
   "source": [
    "pop_2006 = prepare_geostat(input_folder = folder1, year = y1)"
   ]
  },
  {
   "cell_type": "code",
   "execution_count": 7,
   "id": "96820377-95e0-4e2e-b02a-a47ff3961366",
   "metadata": {},
   "outputs": [],
   "source": [
    "pop_2021 = prepare_geostat(input_folder = folder2, year = y2)"
   ]
  },
  {
   "cell_type": "code",
   "execution_count": null,
   "id": "e6a039dd-3637-4726-9f8b-70a02830d033",
   "metadata": {},
   "outputs": [],
   "source": []
  },
  {
   "cell_type": "markdown",
   "id": "2e7f023a-2e44-4c80-bd38-d1297d460769",
   "metadata": {},
   "source": [
    "## Step 3: filtering Slovakia's grids from all-EU data (only for 2006)"
   ]
  },
  {
   "cell_type": "code",
   "execution_count": 8,
   "id": "96085464-5161-4638-81dc-d773cbb111c8",
   "metadata": {},
   "outputs": [],
   "source": [
    "def filter_country(pop, country_code):\n",
    "    \"\"\"\n",
    "    Filters out population data for a given country (without boarder grids) from data for a given year\n",
    "    :param pop_gdf: GeoPandas dataframe\n",
    "        population data for a given year\n",
    "    :param country_code: str\n",
    "        country_code according to ISO 3166\n",
    "    :return: GeoPandas dataframe\n",
    "         population data for a given country and year\n",
    "    \"\"\"\n",
    "    # indexing gdf\n",
    "    pop_country_gdf = pop.loc[pop['CNTR_CODE'] == country_code, :]\n",
    "    return(pop_country_gdf)"
   ]
  },
  {
   "cell_type": "code",
   "execution_count": 9,
   "id": "70500cbf-3e88-4b25-8a44-491720a6de4f",
   "metadata": {},
   "outputs": [],
   "source": [
    "pop_sk_2006 = filter_country(pop = pop_2006, country_code = 'SK')"
   ]
  },
  {
   "cell_type": "markdown",
   "id": "a514c025-9d73-4550-9b76-4e36fff10dc6",
   "metadata": {},
   "source": [
    "<u>Comments</u>:\n",
    "- To make it easier for the user, a dictionary of country names and their codes could be created. I would allow the user to specify only the name of the country without having to remember/check the country's ISO code.\n",
    "- I decided that only \"pure\" Slovakian grids should be used, meaning that the boarder grids were neglected in my approach. This is because year 2006 included data on the fractional population numbers for the boarder grids, while year 2021 didn't. Comparing the two years in the later stage (when calculating relative difference) would result in errors. "
   ]
  },
  {
   "cell_type": "code",
   "execution_count": null,
   "id": "0c6dda42-bb06-41da-920d-8be140e8bb24",
   "metadata": {},
   "outputs": [],
   "source": []
  },
  {
   "cell_type": "markdown",
   "id": "04b9eb86-5de3-4ebf-866a-079c7e29edd4",
   "metadata": {},
   "source": [
    "## Step 4: performing a spatial join between all-EU data for 2021 and Slovakia's data for 2006 => merged dataset limited to Slovakia's grids"
   ]
  },
  {
   "cell_type": "code",
   "execution_count": 10,
   "id": "66d12e71-70b2-4c0f-97e0-304b5a489f06",
   "metadata": {},
   "outputs": [],
   "source": [
    "def join_pair_years(pop_1, pop_2):\n",
    "    \"\"\"\n",
    "    Merges population data from one year to the data for the second using spatial join operation\n",
    "    :param pop_1, pop_2: GeoPandas dataframe\n",
    "        population data for a given year\n",
    "    :return: GeoPandas dataframe\n",
    "         population data for a given country and years\n",
    "    \"\"\"\n",
    "    # performing spatial join\n",
    "    pop_2years_gdf = pop_1.sjoin_nearest(pop_2)\n",
    "    return(pop_2years_gdf)"
   ]
  },
  {
   "cell_type": "code",
   "execution_count": 11,
   "id": "c6e62eec-a4cc-4c2e-b5c6-6a4b4b9f7442",
   "metadata": {},
   "outputs": [],
   "source": [
    "pop_sk_2006_2021 = join_pair_years(pop_1 = pop_sk_2006, pop_2 = pop_2021)"
   ]
  },
  {
   "cell_type": "markdown",
   "id": "0f1bfb32-b901-4e7d-8cf0-844ec10cee0f",
   "metadata": {},
   "source": [
    "<u>Comments</u>:\n",
    "- Spatial join was chosen as a way to merge the two datasets as 1. both had different grid IDs 2. 2021 data were not supplied with *\"country_code\"* attribute\n",
    "- Naturally, the function could be extended to merge more than two gdfs"
   ]
  },
  {
   "cell_type": "code",
   "execution_count": null,
   "id": "df73481c-f90c-43b4-9269-b3e3514fb747",
   "metadata": {},
   "outputs": [],
   "source": []
  },
  {
   "cell_type": "markdown",
   "id": "39729f9a-f0d1-4cf6-9d3b-061424b801c6",
   "metadata": {},
   "source": [
    "## Step 5: finding 5 grids characterized by the highest population increase"
   ]
  },
  {
   "cell_type": "code",
   "execution_count": 12,
   "id": "73820119-77c1-4a75-9a33-17ec9535ec08",
   "metadata": {},
   "outputs": [],
   "source": [
    "def find_rel_increase(pop_data, pop_field_year_1, pop_field_year_2, n_grids):\n",
    "    \"\"\"\n",
    "    Limits population data to n grids with the highest relative increase between year 1 and year 2\n",
    "    :param pop_data: GeoPandas dataframe\n",
    "        population data\n",
    "    :param pop_field_year_1: str\n",
    "        name of the column containing population data for the first year\n",
    "    :param pop_field_year_2: str\n",
    "        name of the column containing population data for the second year\n",
    "    :param n_grids: int\n",
    "        number of grids with the highest relative increase   \n",
    "    :return: GeoPandas dataframe\n",
    "         population data for n selected grids\n",
    "    \"\"\"\n",
    "    # calculating the relative change\n",
    "    pop_data['rel_change'] = (pop_data[pop_field_year_2] - pop_data[pop_field_year_1]) / pop_data[pop_field_year_1]\n",
    "    # finding n grids with the highest value \n",
    "    pop_data_top_5 = pop_data.nlargest(n_grids, 'rel_change')\n",
    "    return(pop_data_top_5)"
   ]
  },
  {
   "cell_type": "code",
   "execution_count": 13,
   "id": "1faa66a8-edc6-4010-abd6-ea5e869c7d92",
   "metadata": {},
   "outputs": [],
   "source": [
    "pop_sk_5top = find_rel_increase(pop_data = pop_sk_2006_2021, pop_field_year_1 = 'pop_2006', pop_field_year_2 = 'pop_2021', n_grids = 5)"
   ]
  },
  {
   "cell_type": "code",
   "execution_count": 14,
   "id": "19f33a99-ea27-4e36-9b78-1b84e54751b0",
   "metadata": {},
   "outputs": [
    {
     "data": {
      "text/html": [
       "<div>\n",
       "<style scoped>\n",
       "    .dataframe tbody tr th:only-of-type {\n",
       "        vertical-align: middle;\n",
       "    }\n",
       "\n",
       "    .dataframe tbody tr th {\n",
       "        vertical-align: top;\n",
       "    }\n",
       "\n",
       "    .dataframe thead th {\n",
       "        text-align: right;\n",
       "    }\n",
       "</style>\n",
       "<table border=\"1\" class=\"dataframe\">\n",
       "  <thead>\n",
       "    <tr style=\"text-align: right;\">\n",
       "      <th></th>\n",
       "      <th>GRD_ID_left</th>\n",
       "      <th>geometry</th>\n",
       "      <th>pop_2006</th>\n",
       "      <th>YEAR</th>\n",
       "      <th>METHD_CL</th>\n",
       "      <th>CNTR_CODE</th>\n",
       "      <th>DATA_SRC</th>\n",
       "      <th>index_right</th>\n",
       "      <th>GRD_ID_right</th>\n",
       "      <th>pop_2021</th>\n",
       "      <th>rel_change</th>\n",
       "    </tr>\n",
       "  </thead>\n",
       "  <tbody>\n",
       "    <tr>\n",
       "      <th>1458045</th>\n",
       "      <td>1kmN2815E4857</td>\n",
       "      <td>POINT (4857500.000 2815500.000)</td>\n",
       "      <td>3</td>\n",
       "      <td>2006</td>\n",
       "      <td>D</td>\n",
       "      <td>SK</td>\n",
       "      <td>AIT</td>\n",
       "      <td>2142514</td>\n",
       "      <td>CRS3035RES1000mN2815000E4857000</td>\n",
       "      <td>1059.0</td>\n",
       "      <td>352.0</td>\n",
       "    </tr>\n",
       "    <tr>\n",
       "      <th>1508183</th>\n",
       "      <td>1kmN2771E4931</td>\n",
       "      <td>POINT (4931500.000 2771500.000)</td>\n",
       "      <td>1</td>\n",
       "      <td>2006</td>\n",
       "      <td>D</td>\n",
       "      <td>SK</td>\n",
       "      <td>AIT</td>\n",
       "      <td>2039415</td>\n",
       "      <td>CRS3035RES1000mN2771000E4931000</td>\n",
       "      <td>341.0</td>\n",
       "      <td>340.0</td>\n",
       "    </tr>\n",
       "    <tr>\n",
       "      <th>1459443</th>\n",
       "      <td>1kmN2803E4859</td>\n",
       "      <td>POINT (4859500.000 2803500.000)</td>\n",
       "      <td>1</td>\n",
       "      <td>2006</td>\n",
       "      <td>D</td>\n",
       "      <td>SK</td>\n",
       "      <td>AIT</td>\n",
       "      <td>2114276</td>\n",
       "      <td>CRS3035RES1000mN2803000E4859000</td>\n",
       "      <td>305.0</td>\n",
       "      <td>304.0</td>\n",
       "    </tr>\n",
       "    <tr>\n",
       "      <th>1458046</th>\n",
       "      <td>1kmN2816E4857</td>\n",
       "      <td>POINT (4857500.000 2816500.000)</td>\n",
       "      <td>4</td>\n",
       "      <td>2006</td>\n",
       "      <td>D</td>\n",
       "      <td>SK</td>\n",
       "      <td>AIT</td>\n",
       "      <td>2144875</td>\n",
       "      <td>CRS3035RES1000mN2816000E4857000</td>\n",
       "      <td>1212.0</td>\n",
       "      <td>302.0</td>\n",
       "    </tr>\n",
       "    <tr>\n",
       "      <th>1463616</th>\n",
       "      <td>1kmN2814E4865</td>\n",
       "      <td>POINT (4865500.000 2814500.000)</td>\n",
       "      <td>2</td>\n",
       "      <td>2006</td>\n",
       "      <td>D</td>\n",
       "      <td>SK</td>\n",
       "      <td>AIT</td>\n",
       "      <td>2140162</td>\n",
       "      <td>CRS3035RES1000mN2814000E4865000</td>\n",
       "      <td>466.0</td>\n",
       "      <td>232.0</td>\n",
       "    </tr>\n",
       "  </tbody>\n",
       "</table>\n",
       "</div>"
      ],
      "text/plain": [
       "           GRD_ID_left                         geometry  pop_2006  YEAR  \\\n",
       "1458045  1kmN2815E4857  POINT (4857500.000 2815500.000)         3  2006   \n",
       "1508183  1kmN2771E4931  POINT (4931500.000 2771500.000)         1  2006   \n",
       "1459443  1kmN2803E4859  POINT (4859500.000 2803500.000)         1  2006   \n",
       "1458046  1kmN2816E4857  POINT (4857500.000 2816500.000)         4  2006   \n",
       "1463616  1kmN2814E4865  POINT (4865500.000 2814500.000)         2  2006   \n",
       "\n",
       "        METHD_CL CNTR_CODE DATA_SRC  index_right  \\\n",
       "1458045        D        SK      AIT      2142514   \n",
       "1508183        D        SK      AIT      2039415   \n",
       "1459443        D        SK      AIT      2114276   \n",
       "1458046        D        SK      AIT      2144875   \n",
       "1463616        D        SK      AIT      2140162   \n",
       "\n",
       "                            GRD_ID_right  pop_2021  rel_change  \n",
       "1458045  CRS3035RES1000mN2815000E4857000    1059.0       352.0  \n",
       "1508183  CRS3035RES1000mN2771000E4931000     341.0       340.0  \n",
       "1459443  CRS3035RES1000mN2803000E4859000     305.0       304.0  \n",
       "1458046  CRS3035RES1000mN2816000E4857000    1212.0       302.0  \n",
       "1463616  CRS3035RES1000mN2814000E4865000     466.0       232.0  "
      ]
     },
     "execution_count": 14,
     "metadata": {},
     "output_type": "execute_result"
    }
   ],
   "source": [
    "pop_sk_5top"
   ]
  },
  {
   "cell_type": "markdown",
   "id": "be89d18a-0b2b-49b1-a6df-cbca54b6fdbd",
   "metadata": {},
   "source": [
    "<u>Comments</u>:\n",
    "- Instead of inserting whole field names, only the years could be used as the field names were standardized in the step above. "
   ]
  },
  {
   "cell_type": "code",
   "execution_count": null,
   "id": "1dca1e3c-64c9-408c-a3b5-376466e1cb2d",
   "metadata": {},
   "outputs": [],
   "source": []
  },
  {
   "cell_type": "markdown",
   "id": "3e7ea384-7505-4873-9b93-3b98792ee4ed",
   "metadata": {},
   "source": [
    "## Step 6: reprojecting population data to WGS84 (geographic coordinate system)"
   ]
  },
  {
   "cell_type": "code",
   "execution_count": 15,
   "id": "653dab0c-212b-45cf-83f6-e7f4977b6694",
   "metadata": {},
   "outputs": [],
   "source": [
    "def reproject_vector(input_data, output_epsg):\n",
    "    \"\"\"\n",
    "    Reproject data from one EPSG to another\n",
    "    :param input_data: GeoPandas dataframe\n",
    "        vector data\n",
    "    :param output_epsg: str\n",
    "        EPSG code  \n",
    "    :return: GeoPandas dataframe\n",
    "         reprojected vector data\n",
    "    \"\"\"\n",
    "    # performing reprojection\n",
    "    reprojected_data = input_data.to_crs(epsg = output_epsg)\n",
    "    return(reprojected_data)"
   ]
  },
  {
   "cell_type": "code",
   "execution_count": 16,
   "id": "127a780e-b3d8-4cd5-996c-c4421daeb007",
   "metadata": {},
   "outputs": [],
   "source": [
    "pop_sk_top5_geo = reproject_vector(input_data = pop_sk_5top, output_epsg = '4326')"
   ]
  },
  {
   "cell_type": "markdown",
   "id": "0f4be7dc-6e58-4fc2-a250-c7868a0bf9e0",
   "metadata": {},
   "source": [
    "<u>Comments</u>:\n",
    "- I performed reprojection as the further tasks required geographical lat and lon as part of the output (attachment 1), not cartographical x and y. "
   ]
  },
  {
   "cell_type": "code",
   "execution_count": 17,
   "id": "0f8ced84-c6bf-4272-b6bf-40180b414494",
   "metadata": {},
   "outputs": [],
   "source": [
    "pop_sk_top5_geo.to_csv('attachment_1.csv')"
   ]
  },
  {
   "cell_type": "code",
   "execution_count": null,
   "id": "d4a10473-782f-485f-8236-2627eb3c206a",
   "metadata": {},
   "outputs": [],
   "source": []
  },
  {
   "cell_type": "markdown",
   "id": "73228569-ab64-4154-bb56-047f5444efe6",
   "metadata": {},
   "source": [
    "## Step 7: calculating Slovakia's 2021 population count statistics"
   ]
  },
  {
   "cell_type": "code",
   "execution_count": 28,
   "id": "90fefb09-38e5-4b28-b00d-8e27ee43600c",
   "metadata": {},
   "outputs": [],
   "source": [
    "def calculate_pop_stats(pop_data, pop_field):\n",
    "    \"\"\"\n",
    "    Calculates statistics (avg and median) for a selected population year\n",
    "    :param pop_data: GeoPandas dataframe\n",
    "        population data\n",
    "    :param pop_field: str\n",
    "        name of the column containing population data for the analyzed year\n",
    "    :return: Pandas dataframe\n",
    "         population statistics\n",
    "    \"\"\"\n",
    "    # creating empty df\n",
    "    stats_df = pd.DataFrame(columns = ['avg', 'median'], index = ['pop_stats'])\n",
    "    # calculating stats\n",
    "    stats_df.loc['pop_stats', 'avg'] = pop_data[pop_field].mean()\n",
    "    stats_df.loc['pop_stats', 'median'] = pop_data[pop_field].median()\n",
    "    return(stats_df)"
   ]
  },
  {
   "cell_type": "code",
   "execution_count": 29,
   "id": "37138419-4356-4762-bc55-91e9bf0c63bd",
   "metadata": {},
   "outputs": [],
   "source": [
    "sk_2021_stats = calculate_pop_stats(pop_data = pop_sk_2006_2021, pop_field = 'pop_2021')"
   ]
  },
  {
   "cell_type": "code",
   "execution_count": 30,
   "id": "68a33fc1-9fa9-4946-a687-a8e01fc3b51e",
   "metadata": {},
   "outputs": [
    {
     "data": {
      "text/html": [
       "<div>\n",
       "<style scoped>\n",
       "    .dataframe tbody tr th:only-of-type {\n",
       "        vertical-align: middle;\n",
       "    }\n",
       "\n",
       "    .dataframe tbody tr th {\n",
       "        vertical-align: top;\n",
       "    }\n",
       "\n",
       "    .dataframe thead th {\n",
       "        text-align: right;\n",
       "    }\n",
       "</style>\n",
       "<table border=\"1\" class=\"dataframe\">\n",
       "  <thead>\n",
       "    <tr style=\"text-align: right;\">\n",
       "      <th></th>\n",
       "      <th>avg</th>\n",
       "      <th>median</th>\n",
       "    </tr>\n",
       "  </thead>\n",
       "  <tbody>\n",
       "    <tr>\n",
       "      <th>pop_stats</th>\n",
       "      <td>365.010984</td>\n",
       "      <td>105.0</td>\n",
       "    </tr>\n",
       "  </tbody>\n",
       "</table>\n",
       "</div>"
      ],
      "text/plain": [
       "                  avg median\n",
       "pop_stats  365.010984  105.0"
      ]
     },
     "execution_count": 30,
     "metadata": {},
     "output_type": "execute_result"
    }
   ],
   "source": [
    "sk_2021_stats"
   ]
  },
  {
   "cell_type": "code",
   "execution_count": 31,
   "id": "c5be5638-cb09-4284-a61a-5ac501419662",
   "metadata": {},
   "outputs": [],
   "source": [
    "sk_2021_stats.to_csv('attachment_2.csv')"
   ]
  },
  {
   "cell_type": "markdown",
   "id": "7741c291-92b0-4e95-8b58-7ee1ee0e1ed9",
   "metadata": {},
   "source": [
    "<u>Final comments</u>:\n",
    "- It would be a good idea to supply the code with tests that check e.g. the completeness of data, type and range of values for population data, the alignment of grids included in each year of measurements or the match between CRS. \n",
    "- Some years of measurement included data in an additional, raster format. While raster data are lighter (easier to import) and easier to parallelize (important when processing large amounts of data), vector data having all attributes inside are easier to index and transform to .csv output files. "
   ]
  },
  {
   "cell_type": "code",
   "execution_count": null,
   "id": "12e12bce-0e45-4b4c-91d8-e5ec34a22042",
   "metadata": {},
   "outputs": [],
   "source": []
  }
 ],
 "metadata": {
  "kernelspec": {
   "display_name": "Python 3.7",
   "language": "python",
   "name": "python3"
  },
  "language_info": {
   "codemirror_mode": {
    "name": "ipython",
    "version": 3
   },
   "file_extension": ".py",
   "mimetype": "text/x-python",
   "name": "python",
   "nbconvert_exporter": "python",
   "pygments_lexer": "ipython3",
   "version": "3.7.16"
  }
 },
 "nbformat": 4,
 "nbformat_minor": 5
}
